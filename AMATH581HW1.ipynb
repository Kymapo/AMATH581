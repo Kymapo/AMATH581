{
  "nbformat": 4,
  "nbformat_minor": 0,
  "metadata": {
    "colab": {
      "provenance": [],
      "authorship_tag": "ABX9TyPeIWpOC93dE15282QV10iM",
      "include_colab_link": true
    },
    "kernelspec": {
      "name": "python3",
      "display_name": "Python 3"
    },
    "language_info": {
      "name": "python"
    }
  },
  "cells": [
    {
      "cell_type": "markdown",
      "metadata": {
        "id": "view-in-github",
        "colab_type": "text"
      },
      "source": [
        "<a href=\"https://colab.research.google.com/github/Kymapo/AMATH581/blob/main/AMATH581HW1.ipynb\" target=\"_parent\"><img src=\"https://colab.research.google.com/assets/colab-badge.svg\" alt=\"Open In Colab\"/></a>"
      ]
    },
    {
      "cell_type": "code",
      "source": [
        "import sympy as sp\n",
        "import numpy as np"
      ],
      "metadata": {
        "id": "FFEoJizh-r5t"
      },
      "execution_count": 1,
      "outputs": []
    },
    {
      "cell_type": "code",
      "execution_count": 2,
      "metadata": {
        "colab": {
          "base_uri": "https://localhost:8080/"
        },
        "id": "Pwn1_qwM9wri",
        "outputId": "c54acbab-3b8c-43c1-ad42-962c5eadcd8f"
      },
      "outputs": [
        {
          "output_type": "stream",
          "name": "stdout",
          "text": [
            "[-1.6, 3.19799513852107, 2.46440244414243, 1.20353590071129, 0.650201463264429, -0.116923341824870, -0.660523485452139, -0.521926543906217, -0.566552742870807, -0.570746582181334, -0.570789617887880, -0.570789622468290]\n"
          ]
        }
      ],
      "source": [
        "def newton_method(f, guess, tol = 1e-6):\n",
        "  x = guess[0]\n",
        "  xn = float(guess[1])\n",
        "  A1 = [xn]\n",
        "  d_f = sp.diff(f)\n",
        "  x_old = xn + 1\n",
        "  while abs(xn - x_old) > tol:\n",
        "    x_old = xn\n",
        "    xn = x_old - f.subs(x, x_old) / d_f.subs(x, x_old)\n",
        "    A1.append(xn)\n",
        "\n",
        "  return A1\n",
        "\n",
        "sp.var('x')\n",
        "A1 = newton_method(x * sp.sin(3*x) - sp.exp(x), (x, -1.6))\n",
        "print(A1)"
      ]
    },
    {
      "cell_type": "code",
      "source": [
        "def bisection_method(f, boundaries, tol = 1e-6):\n",
        "  x = boundaries[0]\n",
        "  lb = boundaries[1]\n",
        "  rb = boundaries[2]\n",
        "  if sp.sign(f.subs(x, lb)) == sp.sign(f.subs(x, rb)):\n",
        "    return 'Choose different boundaries'\n",
        "  xn = float((lb + rb) / 2)\n",
        "  A2 = []\n",
        "  while abs(f.subs(x, xn)) > tol:\n",
        "    xn = float((lb + rb) / 2)\n",
        "    if sp.sign(f.subs(x, xn)) == sp.sign(f.subs(x, lb)):\n",
        "      A2.append(xn)\n",
        "      lb = xn\n",
        "    else:\n",
        "      A2.append(xn)\n",
        "      rb = xn\n",
        "\n",
        "  return A2\n",
        "\n",
        "\n",
        "sp.var('x')\n",
        "A2 = bisection_method(x * sp.sin(3*x) - sp.exp(x), (x, -0.7, -0.4))\n",
        "print(A2)"
      ],
      "metadata": {
        "colab": {
          "base_uri": "https://localhost:8080/"
        },
        "id": "o54lk1C5nZiJ",
        "outputId": "88882811-4da1-439c-e4e8-4db8d77657aa"
      },
      "execution_count": 3,
      "outputs": [
        {
          "output_type": "stream",
          "name": "stdout",
          "text": [
            "[-0.55, -0.625, -0.5875, -0.5687500000000001, -0.578125, -0.5734375, -0.5710937500000001, -0.5699218750000001, -0.5705078125, -0.57080078125, -0.570654296875, -0.5707275390625, -0.57076416015625, -0.570782470703125, -0.5707916259765625, -0.5707870483398438, -0.5707893371582031]\n"
          ]
        }
      ]
    },
    {
      "cell_type": "code",
      "source": [
        "A3 = [len(A1), len(A2)]\n",
        "print(A3)"
      ],
      "metadata": {
        "colab": {
          "base_uri": "https://localhost:8080/"
        },
        "id": "ygVmnJOKqq7q",
        "outputId": "3634cf8e-867c-4180-948a-654adcc95353"
      },
      "execution_count": 4,
      "outputs": [
        {
          "output_type": "stream",
          "name": "stdout",
          "text": [
            "[12, 17]\n"
          ]
        }
      ]
    },
    {
      "cell_type": "code",
      "source": [
        "A = sp.Matrix([[1, 2], [-1, 1]])\n",
        "B = sp.Matrix([[2, 0], [0 ,2]])\n",
        "C = sp.Matrix([[2, 0, -3], [0, 0, -1]])\n",
        "D = sp.Matrix([[1, 2], [2, 3], [-1, 0]])\n",
        "x = sp.Matrix([[1], [0]])\n",
        "y = sp.Matrix([[0], [1]])\n",
        "z = sp.Matrix([[1], [2], [-1]])\n",
        "\n",
        "A4 = A + B\n",
        "A5 = 3 * x - 4 * y\n",
        "A6 = A * x\n",
        "A7 = B * (x - y)\n",
        "A8 = D * x\n",
        "A9 = D * y + z\n",
        "A10 = A * B\n",
        "A11 = B * C\n",
        "A12 = C * D\n",
        "\n",
        "print(A4)\n",
        "print(A5)\n",
        "print(A6)\n",
        "print(A7)\n",
        "print(A8)\n",
        "print(A9)\n",
        "print(A10)\n",
        "print(A11)\n",
        "print(A12)"
      ],
      "metadata": {
        "colab": {
          "base_uri": "https://localhost:8080/"
        },
        "id": "Y2I2z7wyA3fO",
        "outputId": "8d5276f1-3b3d-4639-da42-bf4c7efa8b65"
      },
      "execution_count": 5,
      "outputs": [
        {
          "output_type": "stream",
          "name": "stdout",
          "text": [
            "Matrix([[3, 2], [-1, 3]])\n",
            "Matrix([[3], [-4]])\n",
            "Matrix([[1], [-1]])\n",
            "Matrix([[2], [-2]])\n",
            "Matrix([[1], [2], [-1]])\n",
            "Matrix([[3], [5], [-1]])\n",
            "Matrix([[2, 4], [-2, 2]])\n",
            "Matrix([[4, 0, -6], [0, 0, -2]])\n",
            "Matrix([[5, 4], [1, 0]])\n"
          ]
        }
      ]
    },
    {
      "cell_type": "code",
      "source": [
        "np.save('A1.npy', A1)\n",
        "np.save('A2.npy', A2)\n",
        "np.save('A3.npy', A3)\n",
        "np.save('A4.npy', A4)\n",
        "np.save('A5.npy', A5)\n",
        "np.save('A6.npy', A6)\n",
        "np.save('A7.npy', A7)\n",
        "np.save('A8.npy', A8)\n",
        "np.save('A9.npy', A9)\n",
        "np.save('A10.npy', A10)\n",
        "np.save('A11.npy', A11)\n",
        "np.save('A12.npy', A12)"
      ],
      "metadata": {
        "id": "8kz6eMAUEaFR"
      },
      "execution_count": 6,
      "outputs": []
    },
    {
      "source": [
        "loaded_data = np.load('A1.npy', allow_pickle=True) # Add allow_pickle=True to load the data containing objects\n",
        "print(loaded_data)"
      ],
      "cell_type": "code",
      "metadata": {
        "colab": {
          "base_uri": "https://localhost:8080/"
        },
        "id": "j9xwiOF2h3gk",
        "outputId": "200d7e74-c332-4644-d39e-3a834758c9de"
      },
      "execution_count": 7,
      "outputs": [
        {
          "output_type": "stream",
          "name": "stdout",
          "text": [
            "[-1.6 3.19799513852107 2.46440244414243 1.20353590071129 0.650201463264429\n",
            " -0.116923341824870 -0.660523485452139 -0.521926543906217\n",
            " -0.566552742870807 -0.570746582181334 -0.570789617887880\n",
            " -0.570789622468290]\n"
          ]
        }
      ]
    },
    {
      "cell_type": "code",
      "source": [],
      "metadata": {
        "id": "-wZNSGkThipZ"
      },
      "execution_count": 7,
      "outputs": []
    }
  ]
}