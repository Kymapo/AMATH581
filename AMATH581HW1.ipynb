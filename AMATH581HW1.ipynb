{
  "nbformat": 4,
  "nbformat_minor": 0,
  "metadata": {
    "colab": {
      "provenance": [],
      "authorship_tag": "ABX9TyPpNRWAsX3MeQb46ZNN8X+X",
      "include_colab_link": true
    },
    "kernelspec": {
      "name": "python3",
      "display_name": "Python 3"
    },
    "language_info": {
      "name": "python"
    }
  },
  "cells": [
    {
      "cell_type": "markdown",
      "metadata": {
        "id": "view-in-github",
        "colab_type": "text"
      },
      "source": [
        "<a href=\"https://colab.research.google.com/github/Kymapo/AMATH581/blob/main/AMATH581HW1.ipynb\" target=\"_parent\"><img src=\"https://colab.research.google.com/assets/colab-badge.svg\" alt=\"Open In Colab\"/></a>"
      ]
    },
    {
      "cell_type": "code",
      "source": [
        "import numpy as np"
      ],
      "metadata": {
        "id": "FFEoJizh-r5t"
      },
      "execution_count": 29,
      "outputs": []
    },
    {
      "cell_type": "code",
      "execution_count": 30,
      "metadata": {
        "colab": {
          "base_uri": "https://localhost:8080/"
        },
        "id": "Pwn1_qwM9wri",
        "outputId": "388cb563-cdd3-40ae-f2c6-404b493b176c"
      },
      "outputs": [
        {
          "output_type": "stream",
          "name": "stdout",
          "text": [
            "[-1.6, 3.1979951385210694, 2.4644024441424284, 1.2035359007112925, 0.6502014632644292, -0.1169233418248703, -0.6605234854521386, -0.5219265439062168, -0.5665527428708069, -0.5707465821813341, -0.57078961788788, -0.57078962246829]\n"
          ]
        }
      ],
      "source": [
        "def newton_method(f, df, guess, tol = 1e-6):\n",
        "  xn = float(guess)\n",
        "  A1 = [xn]\n",
        "  x_old = xn + 1\n",
        "  while abs(xn - x_old) > tol:\n",
        "    x_old = xn\n",
        "    xn = x_old - f(x_old) / df(x_old)\n",
        "    A1.append(xn)\n",
        "\n",
        "  return A1\n",
        "\n",
        "f = lambda x: x * np.sin(3*x) - np.exp(x)\n",
        "df = lambda x: np.sin(3*x) + 3 * x * np.cos(3*x) - np.exp(x)\n",
        "A1 = newton_method(f, df, -1.6)\n",
        "print(A1)"
      ]
    },
    {
      "cell_type": "code",
      "source": [
        "def bisection_method(f, boundaries, tol = 1e-6):\n",
        "  lb = boundaries[0]\n",
        "  rb = boundaries[1]\n",
        "  if np.sign(f(lb)) == np.sign(f(rb)):\n",
        "    return 'Choose different boundaries'\n",
        "  xn = float((lb + rb) / 2)\n",
        "  A2 = []\n",
        "  while abs(f(xn)) > tol:\n",
        "    xn = float((lb + rb) / 2)\n",
        "    if np.sign(f(xn)) == np.sign(f(lb)):\n",
        "      A2.append(xn)\n",
        "      lb = xn\n",
        "    else:\n",
        "      A2.append(xn)\n",
        "      rb = xn\n",
        "\n",
        "  return A2\n",
        "\n",
        "f = lambda x: x * np.sin(3*x) - np.exp(x)\n",
        "A2 = bisection_method(f, (-0.7, -0.4))\n",
        "print(A2)"
      ],
      "metadata": {
        "colab": {
          "base_uri": "https://localhost:8080/"
        },
        "id": "o54lk1C5nZiJ",
        "outputId": "b4a3ab22-c774-4593-a806-4ec6c60d8603"
      },
      "execution_count": 31,
      "outputs": [
        {
          "output_type": "stream",
          "name": "stdout",
          "text": [
            "[-0.55, -0.625, -0.5875, -0.5687500000000001, -0.578125, -0.5734375, -0.5710937500000001, -0.5699218750000001, -0.5705078125, -0.57080078125, -0.570654296875, -0.5707275390625, -0.57076416015625, -0.570782470703125, -0.5707916259765625, -0.5707870483398438, -0.5707893371582031]\n"
          ]
        }
      ]
    },
    {
      "cell_type": "code",
      "source": [
        "A3 = [len(A1)-1, len(A2)]\n",
        "print(A3)"
      ],
      "metadata": {
        "colab": {
          "base_uri": "https://localhost:8080/"
        },
        "id": "ygVmnJOKqq7q",
        "outputId": "8ec5b401-3cd7-4a1f-cb1f-f5c81998236a"
      },
      "execution_count": 32,
      "outputs": [
        {
          "output_type": "stream",
          "name": "stdout",
          "text": [
            "[11, 17]\n"
          ]
        }
      ]
    },
    {
      "cell_type": "code",
      "source": [
        "A = np.array([[1, 2], [-1, 1]])\n",
        "B = np.array([[2, 0], [0 ,2]])\n",
        "C = np.array([[2, 0, -3], [0, 0, -1]])\n",
        "D = np.array([[1, 2], [2, 3], [-1, 0]])\n",
        "x = np.array([[1], [0]])\n",
        "y = np.array([[0], [1]])\n",
        "z = np.array([[1], [2], [-1]])\n",
        "\n",
        "A4 = A + B\n",
        "A5 = 3 * x - 4 * y\n",
        "A6 = A @ x\n",
        "A7 = B @ (x - y)\n",
        "A8 = D @ x\n",
        "A9 = D @ y + z\n",
        "A10 = A @ B\n",
        "A11 = B @ C\n",
        "A12 = C @ D\n",
        "\n",
        "A5 = A5.flatten()\n",
        "A6 = A6.flatten()\n",
        "A7 = A7.flatten()\n",
        "A8 = A8.flatten()\n",
        "A9 = A9.flatten()\n",
        "\n",
        "print(A4)\n",
        "print(A5)\n",
        "print(A6)\n",
        "print(A7)\n",
        "print(A8)\n",
        "print(A9)\n",
        "print(A10)\n",
        "print(A11)\n",
        "print(A12)\n",
        "\n",
        "print(A5.shape)"
      ],
      "metadata": {
        "colab": {
          "base_uri": "https://localhost:8080/"
        },
        "id": "Y2I2z7wyA3fO",
        "outputId": "3f12f7a5-5f12-4787-82ee-2132a1709cff"
      },
      "execution_count": 33,
      "outputs": [
        {
          "output_type": "stream",
          "name": "stdout",
          "text": [
            "[[ 3  2]\n",
            " [-1  3]]\n",
            "[ 3 -4]\n",
            "[ 1 -1]\n",
            "[ 2 -2]\n",
            "[ 1  2 -1]\n",
            "[ 3  5 -1]\n",
            "[[ 2  4]\n",
            " [-2  2]]\n",
            "[[ 4  0 -6]\n",
            " [ 0  0 -2]]\n",
            "[[5 4]\n",
            " [1 0]]\n",
            "(2,)\n"
          ]
        }
      ]
    },
    {
      "cell_type": "code",
      "source": [
        "np.save('A1.npy', A1)\n",
        "np.save('A2.npy', A2)\n",
        "np.save('A3.npy', A3)\n",
        "np.save('A4.npy', A4)\n",
        "np.save('A5.npy', A5)\n",
        "np.save('A6.npy', A6)\n",
        "np.save('A7.npy', A7)\n",
        "np.save('A8.npy', A8)\n",
        "np.save('A9.npy', A9)\n",
        "np.save('A10.npy', A10)\n",
        "np.save('A11.npy', A11)\n",
        "np.save('A12.npy', A12)"
      ],
      "metadata": {
        "id": "8kz6eMAUEaFR"
      },
      "execution_count": 34,
      "outputs": []
    },
    {
      "source": [
        "#loaded_data = np.load('A1.npy', allow_pickle=True) # Add allow_pickle=True to load the data containing objects\n",
        "#print(loaded_data)"
      ],
      "cell_type": "code",
      "metadata": {
        "id": "j9xwiOF2h3gk"
      },
      "execution_count": 35,
      "outputs": []
    },
    {
      "cell_type": "code",
      "source": [],
      "metadata": {
        "id": "-wZNSGkThipZ"
      },
      "execution_count": 35,
      "outputs": []
    }
  ]
}