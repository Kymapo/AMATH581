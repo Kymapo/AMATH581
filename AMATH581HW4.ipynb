{
  "nbformat": 4,
  "nbformat_minor": 0,
  "metadata": {
    "colab": {
      "provenance": [],
      "authorship_tag": "ABX9TyMiOEOM9oNmRj98B4UMq2id",
      "include_colab_link": true
    },
    "kernelspec": {
      "name": "python3",
      "display_name": "Python 3"
    },
    "language_info": {
      "name": "python"
    }
  },
  "cells": [
    {
      "cell_type": "markdown",
      "metadata": {
        "id": "view-in-github",
        "colab_type": "text"
      },
      "source": [
        "<a href=\"https://colab.research.google.com/github/Kymapo/AMATH581/blob/main/AMATH581HW4.ipynb\" target=\"_parent\"><img src=\"https://colab.research.google.com/assets/colab-badge.svg\" alt=\"Open In Colab\"/></a>"
      ]
    },
    {
      "cell_type": "code",
      "source": [
        "import numpy as np\n",
        "from scipy.sparse import spdiags, kron, eye\n",
        "import matplotlib.pyplot as plt\n",
        "\n",
        "# Parameters\n",
        "L = 20  # Length of the domain in x and y directions (from -10 to 10)\n",
        "n = 8   # Number of grid points in each direction\n",
        "dx = L / n  # Grid spacing\n",
        "\n",
        "# Finite difference stencils\n",
        "laplacian_data = np.array([np.ones(n), -2 * np.ones(n), np.ones(n)])  # For second derivative\n",
        "first_derivative_data = np.array([-0.5 * np.ones(n), np.zeros(n), 0.5 * np.ones(n)])  # For first derivative\n",
        "\n",
        "# Generate 1D second derivative (Laplacian) matrix with periodic boundary conditions\n",
        "D2 = spdiags(laplacian_data, [-1, 0, 1], n, n) / dx**2\n",
        "D2 = D2.tolil()\n",
        "D2[0, -1] = 1 / dx**2  # periodic condition on the left edge\n",
        "D2[-1, 0] = 1 / dx**2  # periodic condition on the right edge\n",
        "\n",
        "# Generate 1D first derivative matrices (with periodic BCs)\n",
        "D1x = spdiags(first_derivative_data, [-1, 0, 1], n, n) / dx\n",
        "D1x = D1x.tolil()\n",
        "D1x[0, -1] = -0.5 / dx  # periodic condition for left edge\n",
        "D1x[-1, 0] = 0.5 / dx   # periodic condition for right edge\n",
        "\n",
        "D1y = D1x.copy()  # same for y since it's a square grid\n",
        "\n",
        "# Convert matrices to CSR format for further operations\n",
        "D2 = D2.tocsr()\n",
        "D1x = D1x.tocsr()\n",
        "D1y = D1y.tocsr()\n",
        "\n",
        "# 2D Laplacian using Kronecker product for ∂²x + ∂²y\n",
        "A = kron(D2, eye(n)) + kron(eye(n), D2)\n",
        "\n",
        "# 2D first derivatives in x and y directions using Kronecker product\n",
        "B = kron(D1x, eye(n))\n",
        "C = kron(eye(n), D1y)\n",
        "\n",
        "# Convert sparse matrices to full matrices as required\n",
        "A1 = A.toarray()\n",
        "A2 = B.toarray()\n",
        "A3 = C.toarray()\n",
        "\n",
        "# A1, A2, and A3 are the full matrices for ∂²x + ∂²y, ∂x, and ∂y respectively\n",
        "print(\"Matrix A1 (Laplacian ∂²/∂x² + ∂²/∂y²):\")\n",
        "print(A1, \"\\n\")\n",
        "print(\"Matrix A2 (Derivative in x-direction ∂/∂x):\")\n",
        "print(A2, \"\\n\")\n",
        "print(\"Matrix A3 (Derivative in y-direction ∂/∂y):\")\n",
        "print(A3)\n",
        "plt.spy(A1)\n",
        "plt.show()\n",
        "plt.spy(A2)\n",
        "plt.show\n",
        "plt.spy(A3)"
      ],
      "metadata": {
        "colab": {
          "base_uri": "https://localhost:8080/",
          "height": 1000
        },
        "id": "3CK1AZZrftcZ",
        "outputId": "360189bd-bf94-47b5-e868-8ca5de4fdbe7"
      },
      "execution_count": 20,
      "outputs": [
        {
          "output_type": "stream",
          "name": "stdout",
          "text": [
            "Matrix A1 (Laplacian ∂²/∂x² + ∂²/∂y²):\n",
            "[[-0.64  0.16  0.   ...  0.    0.    0.  ]\n",
            " [ 0.16 -0.64  0.16 ...  0.    0.    0.  ]\n",
            " [ 0.    0.16 -0.64 ...  0.    0.    0.  ]\n",
            " ...\n",
            " [ 0.    0.    0.   ... -0.64  0.16  0.  ]\n",
            " [ 0.    0.    0.   ...  0.16 -0.64  0.16]\n",
            " [ 0.    0.    0.   ...  0.    0.16 -0.64]] \n",
            "\n",
            "Matrix A2 (Derivative in x-direction ∂/∂x):\n",
            "[[0. 0. 0. ... 0. 0. 0.]\n",
            " [0. 0. 0. ... 0. 0. 0.]\n",
            " [0. 0. 0. ... 0. 0. 0.]\n",
            " ...\n",
            " [0. 0. 0. ... 0. 0. 0.]\n",
            " [0. 0. 0. ... 0. 0. 0.]\n",
            " [0. 0. 0. ... 0. 0. 0.]] \n",
            "\n",
            "Matrix A3 (Derivative in y-direction ∂/∂y):\n",
            "[[ 0.   0.2  0.  ...  0.   0.   0. ]\n",
            " [-0.2  0.   0.2 ...  0.   0.   0. ]\n",
            " [ 0.  -0.2  0.  ...  0.   0.   0. ]\n",
            " ...\n",
            " [ 0.   0.   0.  ...  0.   0.2  0. ]\n",
            " [ 0.   0.   0.  ... -0.2  0.   0.2]\n",
            " [ 0.   0.   0.  ...  0.  -0.2  0. ]]\n"
          ]
        },
        {
          "output_type": "display_data",
          "data": {
            "text/plain": [
              "<Figure size 640x480 with 1 Axes>"
            ],
            "image/png": "[encoded data removed]"
          },
          "metadata": {}
        },
        {
          "output_type": "execute_result",
          "data": {
            "text/plain": [
              "<matplotlib.image.AxesImage at 0x7a5c546c8670>"
            ]
          },
          "metadata": {},
          "execution_count": 20
        },
        {
          "output_type": "display_data",
          "data": {
            "text/plain": [
              "<Figure size 640x480 with 1 Axes>"
            ],
            "image/png": "[encoded data removed]"
          },
          "metadata": {}
        }
      ]
    },
    {
      "cell_type": "code",
      "source": [],
      "metadata": {
        "id": "FkBL8l1vPGe0"
      },
      "execution_count": null,
      "outputs": []
    }
  ]
}